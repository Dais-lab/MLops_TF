{
 "cells": [
  {
   "cell_type": "code",
   "execution_count": 1,
   "metadata": {},
   "outputs": [],
   "source": [
    "import numpy as np\n",
    "import pandas as pd\n",
    "import optuna\n",
    "from sklearn.model_selection import StratifiedKFold\n",
    "from optuna.samplers import TPESampler\n",
    "from optuna.pruners import SuccessiveHalvingPruner\n",
    "import sklearn.datasets\n",
    "import sklearn.ensemble\n",
    "import sklearn.model_selection\n",
    "import sklearn.svm"
   ]
  },
  {
   "cell_type": "code",
   "execution_count": 2,
   "id": "01cb57d9-e71e-42df-955e-631465bfc51b",
   "metadata": {},
   "outputs": [
    {
     "name": "stdout",
     "output_type": "stream",
     "text": [
      "<class 'pandas.core.frame.DataFrame'>\n",
      "RangeIndex: 150 entries, 0 to 149\n",
      "Data columns (total 5 columns):\n",
      " #   Column        Non-Null Count  Dtype  \n",
      "---  ------        --------------  -----  \n",
      " 0   sepal.length  150 non-null    float64\n",
      " 1   sepal.width   150 non-null    float64\n",
      " 2   petal.length  150 non-null    float64\n",
      " 3   petal.width   150 non-null    float64\n",
      " 4   variety       150 non-null    object \n",
      "dtypes: float64(4), object(1)\n",
      "memory usage: 6.0+ KB\n"
     ]
    }
   ],
   "source": [
    "df_data = pd.read_csv('data/iris.csv', sep=',')\n",
    "df_data.info()"
   ]
  },
  {
   "cell_type": "code",
   "execution_count": 3,
   "metadata": {},
   "outputs": [
    {
     "data": {
      "text/html": [
       "<div>\n",
       "<style scoped>\n",
       "    .dataframe tbody tr th:only-of-type {\n",
       "        vertical-align: middle;\n",
       "    }\n",
       "\n",
       "    .dataframe tbody tr th {\n",
       "        vertical-align: top;\n",
       "    }\n",
       "\n",
       "    .dataframe thead th {\n",
       "        text-align: right;\n",
       "    }\n",
       "</style>\n",
       "<table border=\"1\" class=\"dataframe\">\n",
       "  <thead>\n",
       "    <tr style=\"text-align: right;\">\n",
       "      <th></th>\n",
       "      <th>sepal.length</th>\n",
       "      <th>sepal.width</th>\n",
       "      <th>petal.length</th>\n",
       "      <th>petal.width</th>\n",
       "      <th>variety</th>\n",
       "    </tr>\n",
       "  </thead>\n",
       "  <tbody>\n",
       "    <tr>\n",
       "      <th>0</th>\n",
       "      <td>5.1</td>\n",
       "      <td>3.5</td>\n",
       "      <td>1.4</td>\n",
       "      <td>0.2</td>\n",
       "      <td>0</td>\n",
       "    </tr>\n",
       "    <tr>\n",
       "      <th>1</th>\n",
       "      <td>4.9</td>\n",
       "      <td>3.0</td>\n",
       "      <td>1.4</td>\n",
       "      <td>0.2</td>\n",
       "      <td>0</td>\n",
       "    </tr>\n",
       "    <tr>\n",
       "      <th>2</th>\n",
       "      <td>4.7</td>\n",
       "      <td>3.2</td>\n",
       "      <td>1.3</td>\n",
       "      <td>0.2</td>\n",
       "      <td>0</td>\n",
       "    </tr>\n",
       "    <tr>\n",
       "      <th>3</th>\n",
       "      <td>4.6</td>\n",
       "      <td>3.1</td>\n",
       "      <td>1.5</td>\n",
       "      <td>0.2</td>\n",
       "      <td>0</td>\n",
       "    </tr>\n",
       "    <tr>\n",
       "      <th>4</th>\n",
       "      <td>5.0</td>\n",
       "      <td>3.6</td>\n",
       "      <td>1.4</td>\n",
       "      <td>0.2</td>\n",
       "      <td>0</td>\n",
       "    </tr>\n",
       "  </tbody>\n",
       "</table>\n",
       "</div>"
      ],
      "text/plain": [
       "   sepal.length  sepal.width  petal.length  petal.width  variety\n",
       "0           5.1          3.5           1.4          0.2        0\n",
       "1           4.9          3.0           1.4          0.2        0\n",
       "2           4.7          3.2           1.3          0.2        0\n",
       "3           4.6          3.1           1.5          0.2        0\n",
       "4           5.0          3.6           1.4          0.2        0"
      ]
     },
     "execution_count": 3,
     "metadata": {},
     "output_type": "execute_result"
    }
   ],
   "source": [
    "from sklearn.preprocessing import LabelEncoder\n",
    "\n",
    "items=['Setosa', 'Versicolor', 'Virginica']\n",
    "encoder = LabelEncoder()\n",
    "encoder.fit(items)\n",
    "df_data['variety'] = encoder.transform(df_data['variety'])\n",
    "df_data.head()"
   ]
  },
  {
   "cell_type": "code",
   "execution_count": 4,
   "metadata": {},
   "outputs": [],
   "source": [
    "from sklearn.model_selection import train_test_split\n",
    "\n",
    "df_train, df_test = train_test_split(df_data, test_size=0.2)"
   ]
  },
  {
   "cell_type": "code",
   "execution_count": 5,
   "metadata": {},
   "outputs": [
    {
     "data": {
      "text/html": [
       "<div>\n",
       "<style scoped>\n",
       "    .dataframe tbody tr th:only-of-type {\n",
       "        vertical-align: middle;\n",
       "    }\n",
       "\n",
       "    .dataframe tbody tr th {\n",
       "        vertical-align: top;\n",
       "    }\n",
       "\n",
       "    .dataframe thead th {\n",
       "        text-align: right;\n",
       "    }\n",
       "</style>\n",
       "<table border=\"1\" class=\"dataframe\">\n",
       "  <thead>\n",
       "    <tr style=\"text-align: right;\">\n",
       "      <th></th>\n",
       "      <th>sepal.length</th>\n",
       "      <th>sepal.width</th>\n",
       "      <th>petal.length</th>\n",
       "      <th>petal.width</th>\n",
       "      <th>variety</th>\n",
       "    </tr>\n",
       "  </thead>\n",
       "  <tbody>\n",
       "    <tr>\n",
       "      <th>5</th>\n",
       "      <td>5.4</td>\n",
       "      <td>3.9</td>\n",
       "      <td>1.7</td>\n",
       "      <td>0.4</td>\n",
       "      <td>0</td>\n",
       "    </tr>\n",
       "    <tr>\n",
       "      <th>78</th>\n",
       "      <td>6.0</td>\n",
       "      <td>2.9</td>\n",
       "      <td>4.5</td>\n",
       "      <td>1.5</td>\n",
       "      <td>1</td>\n",
       "    </tr>\n",
       "    <tr>\n",
       "      <th>85</th>\n",
       "      <td>6.0</td>\n",
       "      <td>3.4</td>\n",
       "      <td>4.5</td>\n",
       "      <td>1.6</td>\n",
       "      <td>1</td>\n",
       "    </tr>\n",
       "    <tr>\n",
       "      <th>77</th>\n",
       "      <td>6.7</td>\n",
       "      <td>3.0</td>\n",
       "      <td>5.0</td>\n",
       "      <td>1.7</td>\n",
       "      <td>1</td>\n",
       "    </tr>\n",
       "    <tr>\n",
       "      <th>91</th>\n",
       "      <td>6.1</td>\n",
       "      <td>3.0</td>\n",
       "      <td>4.6</td>\n",
       "      <td>1.4</td>\n",
       "      <td>1</td>\n",
       "    </tr>\n",
       "  </tbody>\n",
       "</table>\n",
       "</div>"
      ],
      "text/plain": [
       "    sepal.length  sepal.width  petal.length  petal.width  variety\n",
       "5            5.4          3.9           1.7          0.4        0\n",
       "78           6.0          2.9           4.5          1.5        1\n",
       "85           6.0          3.4           4.5          1.6        1\n",
       "77           6.7          3.0           5.0          1.7        1\n",
       "91           6.1          3.0           4.6          1.4        1"
      ]
     },
     "execution_count": 5,
     "metadata": {},
     "output_type": "execute_result"
    }
   ],
   "source": [
    "df_train.head()"
   ]
  },
  {
   "cell_type": "code",
   "execution_count": 6,
   "metadata": {},
   "outputs": [
    {
     "name": "stdout",
     "output_type": "stream",
     "text": [
      "<class 'pandas.core.frame.DataFrame'>\n",
      "Int64Index: 120 entries, 5 to 28\n",
      "Data columns (total 5 columns):\n",
      " #   Column        Non-Null Count  Dtype  \n",
      "---  ------        --------------  -----  \n",
      " 0   sepal.length  120 non-null    float64\n",
      " 1   sepal.width   120 non-null    float64\n",
      " 2   petal.length  120 non-null    float64\n",
      " 3   petal.width   120 non-null    float64\n",
      " 4   variety       120 non-null    int32  \n",
      "dtypes: float64(4), int32(1)\n",
      "memory usage: 5.2 KB\n"
     ]
    }
   ],
   "source": [
    "df_train.info()"
   ]
  },
  {
   "cell_type": "code",
   "execution_count": 7,
   "metadata": {},
   "outputs": [
    {
     "name": "stdout",
     "output_type": "stream",
     "text": [
      "<class 'pandas.core.frame.DataFrame'>\n",
      "Int64Index: 30 entries, 118 to 51\n",
      "Data columns (total 5 columns):\n",
      " #   Column        Non-Null Count  Dtype  \n",
      "---  ------        --------------  -----  \n",
      " 0   sepal.length  30 non-null     float64\n",
      " 1   sepal.width   30 non-null     float64\n",
      " 2   petal.length  30 non-null     float64\n",
      " 3   petal.width   30 non-null     float64\n",
      " 4   variety       30 non-null     int32  \n",
      "dtypes: float64(4), int32(1)\n",
      "memory usage: 1.3 KB\n"
     ]
    }
   ],
   "source": [
    "df_test.info()"
   ]
  },
  {
   "cell_type": "code",
   "execution_count": 8,
   "metadata": {},
   "outputs": [],
   "source": [
    "features = ['sepal.length', 'sepal.width', 'petal.length', 'petal.width']\n",
    "target = 'variety'"
   ]
  },
  {
   "cell_type": "code",
   "execution_count": 9,
   "metadata": {},
   "outputs": [
    {
     "data": {
      "text/html": [
       "<div>\n",
       "<style scoped>\n",
       "    .dataframe tbody tr th:only-of-type {\n",
       "        vertical-align: middle;\n",
       "    }\n",
       "\n",
       "    .dataframe tbody tr th {\n",
       "        vertical-align: top;\n",
       "    }\n",
       "\n",
       "    .dataframe thead th {\n",
       "        text-align: right;\n",
       "    }\n",
       "</style>\n",
       "<table border=\"1\" class=\"dataframe\">\n",
       "  <thead>\n",
       "    <tr style=\"text-align: right;\">\n",
       "      <th></th>\n",
       "      <th>index</th>\n",
       "      <th>sepal.length</th>\n",
       "      <th>sepal.width</th>\n",
       "      <th>petal.length</th>\n",
       "      <th>petal.width</th>\n",
       "      <th>variety</th>\n",
       "    </tr>\n",
       "  </thead>\n",
       "  <tbody>\n",
       "    <tr>\n",
       "      <th>0</th>\n",
       "      <td>5</td>\n",
       "      <td>5.4</td>\n",
       "      <td>3.9</td>\n",
       "      <td>1.7</td>\n",
       "      <td>0.4</td>\n",
       "      <td>0</td>\n",
       "    </tr>\n",
       "    <tr>\n",
       "      <th>1</th>\n",
       "      <td>78</td>\n",
       "      <td>6.0</td>\n",
       "      <td>2.9</td>\n",
       "      <td>4.5</td>\n",
       "      <td>1.5</td>\n",
       "      <td>1</td>\n",
       "    </tr>\n",
       "    <tr>\n",
       "      <th>2</th>\n",
       "      <td>85</td>\n",
       "      <td>6.0</td>\n",
       "      <td>3.4</td>\n",
       "      <td>4.5</td>\n",
       "      <td>1.6</td>\n",
       "      <td>1</td>\n",
       "    </tr>\n",
       "    <tr>\n",
       "      <th>3</th>\n",
       "      <td>77</td>\n",
       "      <td>6.7</td>\n",
       "      <td>3.0</td>\n",
       "      <td>5.0</td>\n",
       "      <td>1.7</td>\n",
       "      <td>1</td>\n",
       "    </tr>\n",
       "    <tr>\n",
       "      <th>4</th>\n",
       "      <td>91</td>\n",
       "      <td>6.1</td>\n",
       "      <td>3.0</td>\n",
       "      <td>4.6</td>\n",
       "      <td>1.4</td>\n",
       "      <td>1</td>\n",
       "    </tr>\n",
       "    <tr>\n",
       "      <th>...</th>\n",
       "      <td>...</td>\n",
       "      <td>...</td>\n",
       "      <td>...</td>\n",
       "      <td>...</td>\n",
       "      <td>...</td>\n",
       "      <td>...</td>\n",
       "    </tr>\n",
       "    <tr>\n",
       "      <th>115</th>\n",
       "      <td>21</td>\n",
       "      <td>5.1</td>\n",
       "      <td>3.7</td>\n",
       "      <td>1.5</td>\n",
       "      <td>0.4</td>\n",
       "      <td>0</td>\n",
       "    </tr>\n",
       "    <tr>\n",
       "      <th>116</th>\n",
       "      <td>100</td>\n",
       "      <td>6.3</td>\n",
       "      <td>3.3</td>\n",
       "      <td>6.0</td>\n",
       "      <td>2.5</td>\n",
       "      <td>2</td>\n",
       "    </tr>\n",
       "    <tr>\n",
       "      <th>117</th>\n",
       "      <td>56</td>\n",
       "      <td>6.3</td>\n",
       "      <td>3.3</td>\n",
       "      <td>4.7</td>\n",
       "      <td>1.6</td>\n",
       "      <td>1</td>\n",
       "    </tr>\n",
       "    <tr>\n",
       "      <th>118</th>\n",
       "      <td>27</td>\n",
       "      <td>5.2</td>\n",
       "      <td>3.5</td>\n",
       "      <td>1.5</td>\n",
       "      <td>0.2</td>\n",
       "      <td>0</td>\n",
       "    </tr>\n",
       "    <tr>\n",
       "      <th>119</th>\n",
       "      <td>28</td>\n",
       "      <td>5.2</td>\n",
       "      <td>3.4</td>\n",
       "      <td>1.4</td>\n",
       "      <td>0.2</td>\n",
       "      <td>0</td>\n",
       "    </tr>\n",
       "  </tbody>\n",
       "</table>\n",
       "<p>120 rows × 6 columns</p>\n",
       "</div>"
      ],
      "text/plain": [
       "     index  sepal.length  sepal.width  petal.length  petal.width  variety\n",
       "0        5           5.4          3.9           1.7          0.4        0\n",
       "1       78           6.0          2.9           4.5          1.5        1\n",
       "2       85           6.0          3.4           4.5          1.6        1\n",
       "3       77           6.7          3.0           5.0          1.7        1\n",
       "4       91           6.1          3.0           4.6          1.4        1\n",
       "..     ...           ...          ...           ...          ...      ...\n",
       "115     21           5.1          3.7           1.5          0.4        0\n",
       "116    100           6.3          3.3           6.0          2.5        2\n",
       "117     56           6.3          3.3           4.7          1.6        1\n",
       "118     27           5.2          3.5           1.5          0.2        0\n",
       "119     28           5.2          3.4           1.4          0.2        0\n",
       "\n",
       "[120 rows x 6 columns]"
      ]
     },
     "execution_count": 9,
     "metadata": {},
     "output_type": "execute_result"
    }
   ],
   "source": [
    "df_train.reset_index()"
   ]
  },
  {
   "cell_type": "code",
   "execution_count": 10,
   "metadata": {},
   "outputs": [],
   "source": [
    "df_trains = []\n",
    "df_valids = []\n",
    "skf = StratifiedKFold(n_splits=5, random_state=0, shuffle=True)\n",
    "for train_index, valid_index in skf.split(df_train[features], df_train[target]):\n",
    "    train = df_train.iloc[train_index]\n",
    "    valid = df_train.iloc[valid_index]\n",
    "    df_trains.append(train)\n",
    "    df_valids.append(valid)"
   ]
  },
  {
   "cell_type": "code",
   "execution_count": 15,
   "metadata": {},
   "outputs": [
    {
     "name": "stderr",
     "output_type": "stream",
     "text": [
      "\u001b[32m[I 2023-01-11 15:51:37,347]\u001b[0m A new study created in memory with name: no-name-e221bee5-fa60-42d4-ac26-0a1313625954\u001b[0m\n",
      "\u001b[32m[I 2023-01-11 15:51:37,462]\u001b[0m Trial 0 finished with value: 0.925 and parameters: {'max_depth': 8, 'n_estimators': 12}. Best is trial 0 with value: 0.925.\u001b[0m\n",
      "\u001b[32m[I 2023-01-11 15:51:37,548]\u001b[0m Trial 1 finished with value: 0.9333333333333332 and parameters: {'max_depth': 10, 'n_estimators': 9}. Best is trial 1 with value: 0.9333333333333332.\u001b[0m\n",
      "\u001b[32m[I 2023-01-11 15:51:37,636]\u001b[0m Trial 2 finished with value: 0.9333333333333333 and parameters: {'max_depth': 6, 'n_estimators': 11}. Best is trial 2 with value: 0.9333333333333333.\u001b[0m\n",
      "\u001b[32m[I 2023-01-11 15:51:37,760]\u001b[0m Trial 3 finished with value: 0.95 and parameters: {'max_depth': 6, 'n_estimators': 17}. Best is trial 3 with value: 0.95.\u001b[0m\n",
      "\u001b[32m[I 2023-01-11 15:51:37,836]\u001b[0m Trial 4 finished with value: 0.9583333333333334 and parameters: {'max_depth': 29, 'n_estimators': 7}. Best is trial 4 with value: 0.9583333333333334.\u001b[0m\n",
      "\u001b[32m[I 2023-01-11 15:51:37,926]\u001b[0m Trial 5 finished with value: 0.9416666666666668 and parameters: {'max_depth': 17, 'n_estimators': 9}. Best is trial 4 with value: 0.9583333333333334.\u001b[0m\n",
      "\u001b[32m[I 2023-01-11 15:51:38,042]\u001b[0m Trial 6 finished with value: 0.9166666666666667 and parameters: {'max_depth': 9, 'n_estimators': 18}. Best is trial 4 with value: 0.9583333333333334.\u001b[0m\n",
      "\u001b[32m[I 2023-01-11 15:51:38,084]\u001b[0m Trial 7 finished with value: 0.9666666666666666 and parameters: {'max_depth': 2, 'n_estimators': 4}. Best is trial 7 with value: 0.9666666666666666.\u001b[0m\n",
      "\u001b[32m[I 2023-01-11 15:51:38,192]\u001b[0m Trial 8 finished with value: 0.9333333333333333 and parameters: {'max_depth': 2, 'n_estimators': 15}. Best is trial 7 with value: 0.9666666666666666.\u001b[0m\n",
      "\u001b[32m[I 2023-01-11 15:51:38,301]\u001b[0m Trial 9 finished with value: 0.9416666666666668 and parameters: {'max_depth': 16, 'n_estimators': 16}. Best is trial 7 with value: 0.9666666666666666.\u001b[0m\n",
      "\u001b[32m[I 2023-01-11 15:51:38,355]\u001b[0m Trial 10 finished with value: 0.95 and parameters: {'max_depth': 2, 'n_estimators': 4}. Best is trial 7 with value: 0.9666666666666666.\u001b[0m\n",
      "\u001b[32m[I 2023-01-11 15:51:38,414]\u001b[0m Trial 11 finished with value: 0.95 and parameters: {'max_depth': 28, 'n_estimators': 5}. Best is trial 7 with value: 0.9666666666666666.\u001b[0m\n",
      "\u001b[32m[I 2023-01-11 15:51:38,482]\u001b[0m Trial 12 finished with value: 0.9416666666666668 and parameters: {'max_depth': 3, 'n_estimators': 6}. Best is trial 7 with value: 0.9666666666666666.\u001b[0m\n",
      "\u001b[32m[I 2023-01-11 15:51:38,544]\u001b[0m Trial 13 finished with value: 0.95 and parameters: {'max_depth': 4, 'n_estimators': 6}. Best is trial 7 with value: 0.9666666666666666.\u001b[0m\n",
      "\u001b[32m[I 2023-01-11 15:51:38,596]\u001b[0m Trial 14 finished with value: 0.95 and parameters: {'max_depth': 32, 'n_estimators': 4}. Best is trial 7 with value: 0.9666666666666666.\u001b[0m\n",
      "\u001b[32m[I 2023-01-11 15:51:38,665]\u001b[0m Trial 15 finished with value: 0.925 and parameters: {'max_depth': 4, 'n_estimators': 7}. Best is trial 7 with value: 0.9666666666666666.\u001b[0m\n",
      "\u001b[32m[I 2023-01-11 15:51:38,716]\u001b[0m Trial 16 finished with value: 0.95 and parameters: {'max_depth': 16, 'n_estimators': 5}. Best is trial 7 with value: 0.9666666666666666.\u001b[0m\n",
      "\u001b[32m[I 2023-01-11 15:51:38,782]\u001b[0m Trial 17 finished with value: 0.9583333333333334 and parameters: {'max_depth': 3, 'n_estimators': 7}. Best is trial 7 with value: 0.9666666666666666.\u001b[0m\n",
      "\u001b[32m[I 2023-01-11 15:51:38,837]\u001b[0m Trial 18 finished with value: 0.95 and parameters: {'max_depth': 3, 'n_estimators': 5}. Best is trial 7 with value: 0.9666666666666666.\u001b[0m\n",
      "\u001b[32m[I 2023-01-11 15:51:38,885]\u001b[0m Trial 19 finished with value: 0.95 and parameters: {'max_depth': 22, 'n_estimators': 4}. Best is trial 7 with value: 0.9666666666666666.\u001b[0m\n",
      "\u001b[32m[I 2023-01-11 15:51:38,975]\u001b[0m Trial 20 finished with value: 0.9583333333333334 and parameters: {'max_depth': 3, 'n_estimators': 11}. Best is trial 7 with value: 0.9666666666666666.\u001b[0m\n",
      "\u001b[32m[I 2023-01-11 15:51:39,064]\u001b[0m Trial 21 finished with value: 0.95 and parameters: {'max_depth': 3, 'n_estimators': 12}. Best is trial 7 with value: 0.9666666666666666.\u001b[0m\n",
      "\u001b[32m[I 2023-01-11 15:51:39,129]\u001b[0m Trial 22 finished with value: 0.925 and parameters: {'max_depth': 2, 'n_estimators': 7}. Best is trial 7 with value: 0.9666666666666666.\u001b[0m\n",
      "\u001b[32m[I 2023-01-11 15:51:39,195]\u001b[0m Trial 23 finished with value: 0.9416666666666668 and parameters: {'max_depth': 12, 'n_estimators': 8}. Best is trial 7 with value: 0.9666666666666666.\u001b[0m\n",
      "\u001b[32m[I 2023-01-11 15:51:39,268]\u001b[0m Trial 24 finished with value: 0.9333333333333333 and parameters: {'max_depth': 4, 'n_estimators': 10}. Best is trial 7 with value: 0.9666666666666666.\u001b[0m\n",
      "\u001b[32m[I 2023-01-11 15:51:39,366]\u001b[0m Trial 25 finished with value: 0.9166666666666666 and parameters: {'max_depth': 5, 'n_estimators': 14}. Best is trial 7 with value: 0.9666666666666666.\u001b[0m\n",
      "\u001b[32m[I 2023-01-11 15:51:39,418]\u001b[0m Trial 26 finished with value: 0.925 and parameters: {'max_depth': 2, 'n_estimators': 6}. Best is trial 7 with value: 0.9666666666666666.\u001b[0m\n",
      "\u001b[32m[I 2023-01-11 15:51:39,491]\u001b[0m Trial 27 finished with value: 0.9416666666666667 and parameters: {'max_depth': 11, 'n_estimators': 7}. Best is trial 7 with value: 0.9666666666666666.\u001b[0m\n",
      "\u001b[32m[I 2023-01-11 15:51:39,607]\u001b[0m Trial 28 finished with value: 0.9333333333333333 and parameters: {'max_depth': 5, 'n_estimators': 20}. Best is trial 7 with value: 0.9666666666666666.\u001b[0m\n",
      "\u001b[32m[I 2023-01-11 15:51:39,689]\u001b[0m Trial 29 finished with value: 0.95 and parameters: {'max_depth': 7, 'n_estimators': 13}. Best is trial 7 with value: 0.9666666666666666.\u001b[0m\n",
      "\u001b[32m[I 2023-01-11 15:51:39,757]\u001b[0m Trial 30 finished with value: 0.9416666666666668 and parameters: {'max_depth': 13, 'n_estimators': 11}. Best is trial 7 with value: 0.9666666666666666.\u001b[0m\n",
      "\u001b[32m[I 2023-01-11 15:51:39,817]\u001b[0m Trial 31 finished with value: 0.9583333333333334 and parameters: {'max_depth': 3, 'n_estimators': 8}. Best is trial 7 with value: 0.9666666666666666.\u001b[0m\n",
      "\u001b[32m[I 2023-01-11 15:51:39,876]\u001b[0m Trial 32 finished with value: 0.9333333333333333 and parameters: {'max_depth': 3, 'n_estimators': 8}. Best is trial 7 with value: 0.9666666666666666.\u001b[0m\n",
      "\u001b[32m[I 2023-01-11 15:51:39,944]\u001b[0m Trial 33 finished with value: 0.9416666666666667 and parameters: {'max_depth': 4, 'n_estimators': 10}. Best is trial 7 with value: 0.9666666666666666.\u001b[0m\n",
      "\u001b[32m[I 2023-01-11 15:51:40,012]\u001b[0m Trial 34 finished with value: 0.95 and parameters: {'max_depth': 3, 'n_estimators': 10}. Best is trial 7 with value: 0.9666666666666666.\u001b[0m\n",
      "\u001b[32m[I 2023-01-11 15:51:40,078]\u001b[0m Trial 35 finished with value: 0.9416666666666668 and parameters: {'max_depth': 8, 'n_estimators': 9}. Best is trial 7 with value: 0.9666666666666666.\u001b[0m\n",
      "\u001b[32m[I 2023-01-11 15:51:40,139]\u001b[0m Trial 36 finished with value: 0.9416666666666668 and parameters: {'max_depth': 5, 'n_estimators': 8}. Best is trial 7 with value: 0.9666666666666666.\u001b[0m\n",
      "\u001b[32m[I 2023-01-11 15:51:40,191]\u001b[0m Trial 37 finished with value: 0.9333333333333333 and parameters: {'max_depth': 6, 'n_estimators': 7}. Best is trial 7 with value: 0.9666666666666666.\u001b[0m\n",
      "\u001b[32m[I 2023-01-11 15:51:40,264]\u001b[0m Trial 38 finished with value: 0.95 and parameters: {'max_depth': 21, 'n_estimators': 11}. Best is trial 7 with value: 0.9666666666666666.\u001b[0m\n",
      "\u001b[32m[I 2023-01-11 15:51:40,344]\u001b[0m Trial 39 finished with value: 0.9416666666666667 and parameters: {'max_depth': 2, 'n_estimators': 12}. Best is trial 7 with value: 0.9666666666666666.\u001b[0m\n",
      "\u001b[32m[I 2023-01-11 15:51:40,427]\u001b[0m Trial 40 finished with value: 0.9333333333333333 and parameters: {'max_depth': 8, 'n_estimators': 14}. Best is trial 7 with value: 0.9666666666666666.\u001b[0m\n",
      "\u001b[32m[I 2023-01-11 15:51:40,490]\u001b[0m Trial 41 finished with value: 0.9416666666666668 and parameters: {'max_depth': 3, 'n_estimators': 9}. Best is trial 7 with value: 0.9666666666666666.\u001b[0m\n",
      "\u001b[32m[I 2023-01-11 15:51:40,538]\u001b[0m Trial 42 finished with value: 0.9416666666666668 and parameters: {'max_depth': 4, 'n_estimators': 6}. Best is trial 7 with value: 0.9666666666666666.\u001b[0m\n",
      "\u001b[32m[I 2023-01-11 15:51:40,583]\u001b[0m Trial 43 finished with value: 0.925 and parameters: {'max_depth': 2, 'n_estimators': 5}. Best is trial 7 with value: 0.9666666666666666.\u001b[0m\n",
      "\u001b[32m[I 2023-01-11 15:51:40,645]\u001b[0m Trial 44 finished with value: 0.9416666666666668 and parameters: {'max_depth': 6, 'n_estimators': 8}. Best is trial 7 with value: 0.9666666666666666.\u001b[0m\n",
      "\u001b[32m[I 2023-01-11 15:51:40,712]\u001b[0m Trial 45 finished with value: 0.9333333333333333 and parameters: {'max_depth': 3, 'n_estimators': 9}. Best is trial 7 with value: 0.9666666666666666.\u001b[0m\n",
      "\u001b[32m[I 2023-01-11 15:51:40,763]\u001b[0m Trial 46 finished with value: 0.925 and parameters: {'max_depth': 20, 'n_estimators': 6}. Best is trial 7 with value: 0.9666666666666666.\u001b[0m\n",
      "\u001b[32m[I 2023-01-11 15:51:40,829]\u001b[0m Trial 47 finished with value: 0.9416666666666668 and parameters: {'max_depth': 14, 'n_estimators': 10}. Best is trial 7 with value: 0.9666666666666666.\u001b[0m\n",
      "\u001b[32m[I 2023-01-11 15:51:40,891]\u001b[0m Trial 48 finished with value: 0.95 and parameters: {'max_depth': 25, 'n_estimators': 7}. Best is trial 7 with value: 0.9666666666666666.\u001b[0m\n",
      "\u001b[32m[I 2023-01-11 15:51:40,982]\u001b[0m Trial 49 finished with value: 0.9333333333333333 and parameters: {'max_depth': 10, 'n_estimators': 16}. Best is trial 7 with value: 0.9666666666666666.\u001b[0m\n"
     ]
    }
   ],
   "source": [
    "import optuna\n",
    "def accuracy(true, pred):\n",
    "    return np.mean(true==pred)\n",
    "\n",
    "def objective(trial):\n",
    "    params = {\n",
    "        \"max_depth\": trial.suggest_int(\"max_depth\", 2, 32, log=True),\n",
    "        \"n_estimators\": trial.suggest_int(\"n_estimators\", 4, 20, log=True),\n",
    "        }\n",
    "    score = []\n",
    "    for df_train, df_valid in zip(df_trains, df_valids):\n",
    "        clf = sklearn.ensemble.RandomForestClassifier(**params)\n",
    "\n",
    "        clf.fit(df_train[features], df_train[target])\n",
    "        \n",
    "        pred = clf.predict(df_valid[features])\n",
    "        true = df_valid[target].values\n",
    "        score.append(accuracy(true, pred))\n",
    "    score = np.mean(score)\n",
    "    return score\n",
    "\n",
    "# Hyperparameter Tuning\n",
    "study = optuna.create_study(direction='maximize', sampler=TPESampler(seed=0), pruner=SuccessiveHalvingPruner())\n",
    "study.optimize(objective, n_trials=50)"
   ]
  },
  {
   "cell_type": "code",
   "execution_count": 16,
   "metadata": {},
   "outputs": [],
   "source": [
    "# Best Parameter로 모델 훈련\n",
    "clfs = []\n",
    "for df_train in df_trains:\n",
    "    clf = sklearn.ensemble.RandomForestClassifier(**study.best_params)\n",
    "\n",
    "    clf.fit(df_train[features], df_train[target])\n",
    "    clfs.append(clf)\n",
    "    \n",
    "\n",
    "# 예측 수행 (soft voting)\n",
    "pred = [clf.predict_proba(df_test[features]) for clf in clfs]\n",
    "pred = np.mean(pred, axis=0)\n",
    "pred = np.argmax(pred, axis=1)"
   ]
  },
  {
   "cell_type": "code",
   "execution_count": 17,
   "metadata": {},
   "outputs": [
    {
     "data": {
      "text/plain": [
       "array([[ 7,  0,  0],\n",
       "       [ 0, 11,  0],\n",
       "       [ 0,  1, 11]], dtype=int64)"
      ]
     },
     "execution_count": 17,
     "metadata": {},
     "output_type": "execute_result"
    }
   ],
   "source": [
    "from sklearn.metrics import confusion_matrix\n",
    "confusion_matrix(pred, df_test[target])"
   ]
  },
  {
   "cell_type": "code",
   "execution_count": 18,
   "metadata": {},
   "outputs": [
    {
     "name": "stdout",
     "output_type": "stream",
     "text": [
      "예측 정확도 : 0.9667\n"
     ]
    }
   ],
   "source": [
    "from sklearn.metrics import accuracy_score\n",
    "print(\"예측 정확도 : {0:.4f}\".format(accuracy_score(df_test[target], pred)))"
   ]
  }
 ],
 "metadata": {
  "kernelspec": {
   "display_name": "base",
   "language": "python",
   "name": "python3"
  },
  "language_info": {
   "codemirror_mode": {
    "name": "ipython",
    "version": 3
   },
   "file_extension": ".py",
   "mimetype": "text/x-python",
   "name": "python",
   "nbconvert_exporter": "python",
   "pygments_lexer": "ipython3",
   "version": "3.9.12"
  },
  "orig_nbformat": 4,
  "vscode": {
   "interpreter": {
    "hash": "20a9e06a1eee47c4abbed4ec8225ad91d78d9800d202b71b6b0a6e47016c6abd"
   }
  }
 },
 "nbformat": 4,
 "nbformat_minor": 2
}
